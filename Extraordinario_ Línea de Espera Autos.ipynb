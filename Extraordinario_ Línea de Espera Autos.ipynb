{
 "cells": [
  {
   "cell_type": "markdown",
   "metadata": {
    "colab": {
     "base_uri": "https://localhost:8080/",
     "height": 539
    },
    "id": "WeWHjWCjwTxP",
    "outputId": "6739d9e9-4ca8-44af-8959-bed996d60cb2"
   },
   "source": [
    "# Extraordinario Líneas de Espera\n",
    "\n",
    "A un autolavado los autos llegan siguiendo una distribución de Poisson, con 4 autos por hora, que pueden esperar en el estacionamiento de la instalación, si el lugar del lavado está ocupado. El tiempo para lavar y limpiar un automóvil es exponencial, con 10 minutos de promedio. Los automóviles que no se pueden estacionar en la instalación pueden esperar junto al lavado. Eso quiere decir que para todo fin práctico no hay límite del tamaño del sistema. ¿Qué capacidad debe tener el estacionamiento?"
   ]
  },
  {
   "cell_type": "code",
   "execution_count": 5,
   "metadata": {},
   "outputs": [
    {
     "name": "stdout",
     "output_type": "stream",
     "text": [
      "     0.000 1\n",
      "                  0.802 0\n",
      "     9.492 1\n",
      "    11.710 2\n",
      "                 16.162 1\n",
      "                 16.345 0\n",
      "    45.551 1\n",
      "                 54.994 0\n",
      "    57.828 1\n",
      "                 65.625 0\n",
      "    74.067 1\n",
      "    93.790 2\n",
      "                 94.320 1\n",
      "    94.776 2\n",
      "                 95.168 1\n"
     ]
    },
    {
     "data": {
      "image/png": "[encoded data removed]",
      "text/plain": [
       "<Figure size 432x288 with 1 Axes>"
      ]
     },
     "metadata": {
      "needs_background": "light"
     },
     "output_type": "display_data"
    }
   ],
   "source": [
    "from random import random \n",
    "from math import log\n",
    "import matplotlib.pyplot as plt\n",
    "T=100    #tiempo de simulación\n",
    "l_l=4/60   #parametro lambda, llega un usario por minuto (en minutos) 4 horas\n",
    "l_s=0.1 #clientes por minuto que puede atender el servidor 10 minutos\n",
    "t=0     #tiempo de reloj inicial\n",
    "infi=100000000\n",
    "ts=infi #tiempo de ocurrencia de la proxima salida\n",
    "tl=0    #tiempo de ocurrencia de la proxima llegada\n",
    "l=0\n",
    "lx=[]\n",
    "ly=[]\n",
    "while min(tl,ts)<T:\n",
    "    ta=t\n",
    "    t=min(tl,ts)\n",
    "    lx.append(ta)\n",
    "    ly.append(l)\n",
    "    lx.append(t)\n",
    "    ly.append(l)\n",
    "    if t==tl: #es una llegada\n",
    "        l=l+1\n",
    "        print(\"%10.3f\"%tl,l)\n",
    "        tl=t-(1/l_l)*log(random())\n",
    "        if l==1:\n",
    "            ts=t-(1/l_s)*log(random()) #generando una exponencial (metodo de la inversa)\n",
    "    else:     #es una salida\n",
    "        l=l-1\n",
    "        print(\"            \",\"%10.3f\"%ts,l)\n",
    "        if l==0:\n",
    "            ts=infi\n",
    "        else:\n",
    "            ts=t-(1./l_s)*log(random())\n",
    "plt.plot(lx,ly)\n",
    "plt.show()\n",
    "#Los eventos a la izquierda son llegadas y a la derecha son salidas"
   ]
  },
  {
   "cell_type": "markdown",
   "metadata": {
    "id": "I0Tl91SlxcjG"
   },
   "source": [
    "Ahora definimos una función para hacer mas simulaciones \n"
   ]
  },
  {
   "cell_type": "code",
   "execution_count": 2,
   "metadata": {
    "colab": {
     "base_uri": "https://localhost:8080/",
     "height": 286
    },
    "id": "UzefT42Tvjv7",
    "outputId": "60244757-d10d-48fb-fcd7-ade17c5f1347"
   },
   "outputs": [
    {
     "name": "stdout",
     "output_type": "stream",
     "text": [
      "Media del tiempo en el que el servidor esta desocupado  32.93686096117524\n"
     ]
    },
    {
     "data": {
      "image/png": "[encoded data removed]",
      "text/plain": [
       "<Figure size 432x288 with 1 Axes>"
      ]
     },
     "metadata": {
      "needs_background": "light"
     },
     "output_type": "display_data"
    }
   ],
   "source": [
    "from random import random \n",
    "from math import log\n",
    "import matplotlib.pyplot as plt\n",
    "def f():\n",
    "  T=100 \n",
    "  l_l=4/60 \n",
    "  l_s=0.1\n",
    "  t=0 \n",
    "  infi=100000000\n",
    "  ts=infi \n",
    "  tl=0    \n",
    "  l=0\n",
    "  suma=0\n",
    "  while min(tl,ts)<T:\n",
    "    ta=t #tiempo del evento anterior\n",
    "    t=min(tl,ts)\n",
    "    if l==0:\n",
    "      suma=suma+t-ta # t-ta es el intervalo de tiempo en el que el servidor estuvo vacio\n",
    "    if t==tl:\n",
    "      l=l+1\n",
    "      #print(\"%10.3f\"%tl,l)\n",
    "      tl=t-(1/l_l)*log(random())\n",
    "      if l==1:\n",
    "        ts=t-(1/l_s)*log(random())       \n",
    "    else:\n",
    "      l=l-1\n",
    "      #print(\"            \",\"%10.3f\"%ts,l)\n",
    "      if l==0:\n",
    "        ts=infi \n",
    "      else:\n",
    "        ts=t-(1./l_s)*log(random())\n",
    "  return suma\n",
    "l=[]\n",
    "suma=0\n",
    "n=100000\n",
    "for i in range(n):\n",
    "  suma+=f()\n",
    "  l.append(f())\n",
    "print(\"Media del tiempo en el que el servidor esta desocupado \",suma/n)\n",
    "plt.hist(l,density=1,color='grey',edgecolor='black')\n",
    "plt.show()"
   ]
  },
  {
   "cell_type": "markdown",
   "metadata": {
    "id": "b-BHl1DnyCqr"
   },
   "source": [
    "Notamos que, por ejemplo la probabilidad de que el servidor este vacio en un tiempo 0 a 0.02 es el area del rectangulo que aparece en la grafica con dichos intervalos\n",
    "\n"
   ]
  },
  {
   "cell_type": "code",
   "execution_count": 3,
   "metadata": {
    "colab": {
     "base_uri": "https://localhost:8080/"
    },
    "id": "be27ncunwNhN",
    "outputId": "03cdff64-44f4-4929-84be-c8dc1be6f534"
   },
   "outputs": [
    {
     "name": "stdout",
     "output_type": "stream",
     "text": [
      "Media de carros en el intervalo [0,100]  3.1191\n",
      "3.1039\n",
      "2.54195898589859\n"
     ]
    }
   ],
   "source": [
    "from random import random \n",
    "from math import log\n",
    "from statistics import mean,variance\n",
    "import matplotlib.pyplot as plt\n",
    "def f():\n",
    "  T=100 \n",
    "  l_l=4/60 \n",
    "  l_s=0.1\n",
    "  t=0 \n",
    "  infi=100000000\n",
    "  ts=infi \n",
    "  tl=0    \n",
    "  l=0\n",
    "  suma=0\n",
    "  ly=[]\n",
    "  while min(tl,ts)<T:\n",
    "    ta=t #tiempo del evento anterior\n",
    "    t=min(tl,ts)\n",
    "    ly.append(l)\n",
    "    if l==0:\n",
    "      suma=suma+t-ta # t-ta es el intervalo de tiempo en el que el servidor estuvo vacio\n",
    "    if t==tl:\n",
    "      l=l+1\n",
    "      #print(\"%10.3f\"%tl,l)\n",
    "      tl=t-(1/l_l)*log(random())\n",
    "      if l==1:\n",
    "        ts=t-(1/l_s)*log(random())       \n",
    "    else:\n",
    "      l=l-1\n",
    "      #print(\"            \",\"%10.3f\"%ts,l)\n",
    "      if l==0:\n",
    "        ts=infi \n",
    "      else:\n",
    "        ts=t-(1./l_s)*log(random())\n",
    "  return max(ly)\n",
    "suma=0\n",
    "n=10000\n",
    "l=[]\n",
    "for i in range(n):\n",
    "  l.append(f()) #otro metodo mas eficiente \n",
    "  suma=suma+f()\n",
    "print(\"Media de carros en el intervalo [0,100] \",suma/n)\n",
    "print(mean(l))\n",
    "print(variance(l))"
   ]
  },
  {
   "cell_type": "markdown",
   "metadata": {},
   "source": [
    "# Conclusiones\n",
    "\n",
    "Con base en las tasas de llegada y de servicio, calculamos la media de carros en el sistema. \n",
    "Se concluye que **la capacidad del estacionamiento debe ser para 3 autos como media.**"
   ]
  },
  {
   "cell_type": "code",
   "execution_count": null,
   "metadata": {},
   "outputs": [],
   "source": []
  }
 ],
 "metadata": {
  "colab": {
   "name": "diana.ipynb",
   "provenance": []
  },
  "kernelspec": {
   "display_name": "Python 3 (ipykernel)",
   "language": "python",
   "name": "python3"
  },
  "language_info": {
   "codemirror_mode": {
    "name": "ipython",
    "version": 3
   },
   "file_extension": ".py",
   "mimetype": "text/x-python",
   "name": "python",
   "nbconvert_exporter": "python",
   "pygments_lexer": "ipython3",
   "version": "3.9.7"
  }
 },
 "nbformat": 4,
 "nbformat_minor": 1
}
