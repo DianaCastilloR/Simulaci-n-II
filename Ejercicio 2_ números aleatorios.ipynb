{
 "cells": [
  {
   "cell_type": "markdown",
   "id": "fe53c6b9",
   "metadata": {},
   "source": [
    "# Ejericicio 2"
   ]
  },
  {
   "cell_type": "markdown",
   "id": "e52350a6",
   "metadata": {},
   "source": [
    "# a) Simular un sorteo de los colores blanco, negro, rojo, azul y verde."
   ]
  },
  {
   "cell_type": "code",
   "execution_count": 3,
   "id": "970e03f2",
   "metadata": {},
   "outputs": [
    {
     "data": {
      "text/plain": [
       "'Verde'"
      ]
     },
     "execution_count": 3,
     "metadata": {},
     "output_type": "execute_result"
    }
   ],
   "source": [
    "import random  #librería que contiene la función CHOICE que permiten elegir uno (o varios) elementos de una lista.\n",
    "\n",
    "def sorteo():  #generamos nuestra función\n",
    "    colores = (['Blanco', 'Negro', 'Rojo', 'Azul', 'Verde']) # generamos una tupla con los colores sorteados\n",
    "    color = random.choice(colores) #generamos una variable que nos simula el sorteo\n",
    "    return color    #la función regresa la variable \n",
    "sorteo()\n"
   ]
  },
  {
   "cell_type": "code",
   "execution_count": 4,
   "id": "ea12fab6",
   "metadata": {},
   "outputs": [
    {
     "data": {
      "text/plain": [
       "'Azul'"
      ]
     },
     "execution_count": 4,
     "metadata": {},
     "output_type": "execute_result"
    }
   ],
   "source": [
    "sorteo()"
   ]
  },
  {
   "cell_type": "markdown",
   "id": "1ac56507",
   "metadata": {},
   "source": [
    "# b) Simular 5 sorteos con sustitución."
   ]
  },
  {
   "cell_type": "code",
   "execution_count": 9,
   "id": "dad3d67b",
   "metadata": {},
   "outputs": [
    {
     "data": {
      "text/plain": [
       "['Rojo', 'Azul', 'Rojo', 'Azul', 'Blanco']"
      ]
     },
     "execution_count": 9,
     "metadata": {},
     "output_type": "execute_result"
    }
   ],
   "source": [
    "import random #librería que contiene la función CHOICE que permiten elegir uno (o varios) elementos de una lista.\n",
    "\n",
    "def sorteos():   #generamos nuestra función\n",
    "    colores = (['Blanco', 'Negro', 'Rojo', 'Azul', 'Verde']) # generamos una tupla con los colores sorteados\n",
    "    lcolor=[]    #creamos una lista donde se guardan los sorteos\n",
    "    n = 0        #contador\n",
    "    while n <5:   #bucle para hacer los 5 sorteos\n",
    "        lcolor.append(random.choice(colores)) #agregamos a la lista \"lcolor\" la variable que simula el sorteo\n",
    "        n += 1\n",
    "    return lcolor   #la función regresa la lista \"lcolor\"\n",
    "sorteos()"
   ]
  },
  {
   "cell_type": "code",
   "execution_count": 6,
   "id": "0ee3bcda",
   "metadata": {},
   "outputs": [
    {
     "data": {
      "text/plain": [
       "['Negro', 'Rojo', 'Verde', 'Negro', 'Azul']"
      ]
     },
     "execution_count": 6,
     "metadata": {},
     "output_type": "execute_result"
    }
   ],
   "source": [
    "sorteos()"
   ]
  },
  {
   "cell_type": "code",
   "execution_count": null,
   "id": "f2dc78b5",
   "metadata": {},
   "outputs": [],
   "source": []
  }
 ],
 "metadata": {
  "kernelspec": {
   "display_name": "Python 3 (ipykernel)",
   "language": "python",
   "name": "python3"
  },
  "language_info": {
   "codemirror_mode": {
    "name": "ipython",
    "version": 3
   },
   "file_extension": ".py",
   "mimetype": "text/x-python",
   "name": "python",
   "nbconvert_exporter": "python",
   "pygments_lexer": "ipython3",
   "version": "3.9.7"
  }
 },
 "nbformat": 4,
 "nbformat_minor": 5
}
