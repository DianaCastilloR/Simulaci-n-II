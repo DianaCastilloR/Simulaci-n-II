{
 "cells": [
  {
   "cell_type": "markdown",
   "id": "16b0bcd3",
   "metadata": {},
   "source": [
    "# Ejericicio 2"
   ]
  },
  {
   "cell_type": "markdown",
   "id": "af7321cf",
   "metadata": {},
   "source": [
    "# a) Simular un sorteo de los colores blanco, negro, rojo, azul y verde."
   ]
  },
  {
   "cell_type": "code",
   "execution_count": 3,
   "id": "3fa358b2",
   "metadata": {},
   "outputs": [
    {
     "data": {
      "text/plain": [
       "'Verde'"
      ]
     },
     "execution_count": 3,
     "metadata": {},
     "output_type": "execute_result"
    }
   ],
   "source": [
    "import random\n",
    "\n",
    "def sorteo():\n",
    "    colores = (['Blanco', 'Negro', 'Rojo', 'Azul', 'Verde'])\n",
    "    color = random.choice(colores)\n",
    "    return color\n",
    "sorteo()\n"
   ]
  },
  {
   "cell_type": "code",
   "execution_count": 4,
   "id": "6ae922bd",
   "metadata": {},
   "outputs": [
    {
     "data": {
      "text/plain": [
       "'Azul'"
      ]
     },
     "execution_count": 4,
     "metadata": {},
     "output_type": "execute_result"
    }
   ],
   "source": [
    "sorteo()"
   ]
  },
  {
   "cell_type": "markdown",
   "id": "2ff06659",
   "metadata": {},
   "source": [
    "# b) Simular 5 sorteos con sustitución."
   ]
  },
  {
   "cell_type": "code",
   "execution_count": 5,
   "id": "80cebd18",
   "metadata": {},
   "outputs": [
    {
     "data": {
      "text/plain": [
       "['Rojo', 'Blanco', 'Rojo', 'Verde', 'Blanco']"
      ]
     },
     "execution_count": 5,
     "metadata": {},
     "output_type": "execute_result"
    }
   ],
   "source": [
    "import random\n",
    "\n",
    "def sorteos():\n",
    "    colores = (['Blanco', 'Negro', 'Rojo', 'Azul', 'Verde'])\n",
    "    lcolor=[]\n",
    "    n = 0\n",
    "    while n <5:\n",
    "        lcolor.append(random.choice(colores))\n",
    "        n += 1\n",
    "    return lcolor\n",
    "sorteos()"
   ]
  },
  {
   "cell_type": "code",
   "execution_count": 6,
   "id": "4f45522c",
   "metadata": {},
   "outputs": [
    {
     "data": {
      "text/plain": [
       "['Negro', 'Rojo', 'Verde', 'Negro', 'Azul']"
      ]
     },
     "execution_count": 6,
     "metadata": {},
     "output_type": "execute_result"
    }
   ],
   "source": [
    "sorteos()"
   ]
  },
  {
   "cell_type": "code",
   "execution_count": null,
   "id": "d8a14595",
   "metadata": {},
   "outputs": [],
   "source": []
  }
 ],
 "metadata": {
  "kernelspec": {
   "display_name": "Python 3 (ipykernel)",
   "language": "python",
   "name": "python3"
  },
  "language_info": {
   "codemirror_mode": {
    "name": "ipython",
    "version": 3
   },
   "file_extension": ".py",
   "mimetype": "text/x-python",
   "name": "python",
   "nbconvert_exporter": "python",
   "pygments_lexer": "ipython3",
   "version": "3.9.7"
  }
 },
 "nbformat": 4,
 "nbformat_minor": 5
}
